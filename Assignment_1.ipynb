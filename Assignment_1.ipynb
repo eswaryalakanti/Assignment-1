{
 "cells": [
  {
   "cell_type": "code",
   "execution_count": 5,
   "metadata": {},
   "outputs": [],
   "source": [
    "#question-1\n",
    "s='yalakanti eswar'\n",
    "li=[1,2,3,'eswar',True,1.23]\n",
    "fl=1.23\n",
    "tu=(2,3,2.34,'jkl')"
   ]
  },
  {
   "cell_type": "code",
   "execution_count": 6,
   "metadata": {},
   "outputs": [
    {
     "name": "stdout",
     "output_type": "stream",
     "text": [
      "<class 'str'> <class 'str'> <class 'list'> <class 'int'>\n"
     ]
    }
   ],
   "source": [
    "#question -2\n",
    "var1 = ''#string\n",
    "var2 = '[ DS , ML , Python]'#string\n",
    "var3 = [ 'DS' , 'ML' , 'Python']#list\n",
    "var4 = 1#integer\n",
    "print(type(var1),type(var2),type(var3),type(var4))"
   ]
  },
  {
   "cell_type": "code",
   "execution_count": 7,
   "metadata": {},
   "outputs": [
    {
     "name": "stdout",
     "output_type": "stream",
     "text": [
      "4.0 <class 'float'>\n"
     ]
    },
    {
     "data": {
      "text/plain": [
       "2.6666666666666665"
      ]
     },
     "execution_count": 7,
     "metadata": {},
     "output_type": "execute_result"
    }
   ],
   "source": [
    "#question-3\n",
    "#/ this gives the quotient and output will be in float\n",
    "var1=8\n",
    "var2=3\n",
    "var3=2\n",
    "print(var1/var3,type(var1/var3))\n",
    "var1/var2"
   ]
  },
  {
   "cell_type": "code",
   "execution_count": 8,
   "metadata": {},
   "outputs": [
    {
     "name": "stdout",
     "output_type": "stream",
     "text": [
      "0 <class 'int'>\n"
     ]
    }
   ],
   "source": [
    "#%-this gives the remainder and output will be in integer data type\n",
    "print(var1%var3,type(var1%var3))"
   ]
  },
  {
   "cell_type": "code",
   "execution_count": 9,
   "metadata": {},
   "outputs": [
    {
     "name": "stdout",
     "output_type": "stream",
     "text": [
      "2 <class 'float'>\n"
     ]
    }
   ],
   "source": [
    "# //-this gives the floor value of the quotient and output will be in float\n",
    "print(var1//var2,type(var1/var3))"
   ]
  },
  {
   "cell_type": "code",
   "execution_count": null,
   "metadata": {},
   "outputs": [
    {
     "name": "stdout",
     "output_type": "stream",
     "text": [
      "8.120600999999997 <class 'int'>\n"
     ]
    }
   ],
   "source": [
    "# **-2**3 means 2^3=8 \n",
    "print(2**3,type(2**2))"
   ]
  },
  {
   "cell_type": "code",
   "execution_count": null,
   "metadata": {},
   "outputs": [
    {
     "name": "stdout",
     "output_type": "stream",
     "text": [
      "1 <class 'int'>\n",
      "2 <class 'int'>\n",
      "3.456 <class 'float'>\n",
      "jkl <class 'str'>\n",
      "lak <class 'str'>\n",
      "(1+8j) <class 'complex'>\n",
      "[1, 2] <class 'list'>\n",
      "(1, 2) <class 'tuple'>\n"
     ]
    }
   ],
   "source": [
    "#question-4\n",
    "lis=[1,2,3.456,'jkl','lak',1+8j,[1,2],(1,2)]\n",
    "for i in lis:\n",
    "    print(i,type(i))"
   ]
  },
  {
   "cell_type": "code",
   "execution_count": 2,
   "metadata": {},
   "outputs": [
    {
     "name": "stdout",
     "output_type": "stream",
     "text": [
      "the a is divisble by b and it is divisible by 4 times\n"
     ]
    }
   ],
   "source": [
    "#question-5\n",
    "a=input('Enter the input A:')\n",
    "a=int(a)\n",
    "b=input('Enter the input B:')\n",
    "b=int(b)\n",
    "c=0\n",
    "if a%b==0:\n",
    "    c=0\n",
    "    d=b\n",
    "    while a>=d:\n",
    "        d+=b\n",
    "        c+=1\n",
    "    print(f'the a is divisble by b and it is divisible by {c} times')\n",
    "else:\n",
    "    print('it is not divisible')\n"
   ]
  },
  {
   "cell_type": "code",
   "execution_count": 1,
   "metadata": {},
   "outputs": [
    {
     "name": "stdout",
     "output_type": "stream",
     "text": [
      "3\n",
      "6\n",
      "9\n",
      "12\n",
      "15\n",
      "18\n",
      "21\n",
      "24\n"
     ]
    }
   ],
   "source": [
    "#question 6\n",
    "lis=range(1,26)\n",
    "for i in lis:\n",
    "    if i%3==0:\n",
    "        print(i)\n"
   ]
  },
  {
   "cell_type": "code",
   "execution_count": 3,
   "metadata": {},
   "outputs": [
    {
     "name": "stdout",
     "output_type": "stream",
     "text": [
      "[1, 2, 78, 4]\n"
     ]
    }
   ],
   "source": [
    "#question 7\n",
    "\"\"\"\n",
    "the mutable means the  we are able to change value at particular index for particular collection\n",
    "   ex:list,sets,dictionary\n",
    "immutable:we cant change the value at particular index for particular collection\n",
    "    ex:tuples,string\n",
    "\"\"\"\n",
    "#mutable\n",
    "l=[1,2,3,4]\n",
    "l[2]=78\n",
    "print(l)"
   ]
  },
  {
   "cell_type": "code",
   "execution_count": 4,
   "metadata": {},
   "outputs": [
    {
     "ename": "TypeError",
     "evalue": "'str' object does not support item assignment",
     "output_type": "error",
     "traceback": [
      "\u001b[1;31m---------------------------------------------------------------------------\u001b[0m",
      "\u001b[1;31mTypeError\u001b[0m                                 Traceback (most recent call last)",
      "\u001b[1;32md:\\PW_Data_Science\\Assignment_1\\Assignment_1.ipynb Cell 11\u001b[0m line \u001b[0;36m3\n\u001b[0;32m      <a href='vscode-notebook-cell:/d%3A/PW_Data_Science/Assignment_1/Assignment_1.ipynb#X13sZmlsZQ%3D%3D?line=0'>1</a>\u001b[0m \u001b[39m#immutable\u001b[39;00m\n\u001b[0;32m      <a href='vscode-notebook-cell:/d%3A/PW_Data_Science/Assignment_1/Assignment_1.ipynb#X13sZmlsZQ%3D%3D?line=1'>2</a>\u001b[0m lak\u001b[39m=\u001b[39m\u001b[39m'\u001b[39m\u001b[39mstring\u001b[39m\u001b[39m'\u001b[39m\n\u001b[1;32m----> <a href='vscode-notebook-cell:/d%3A/PW_Data_Science/Assignment_1/Assignment_1.ipynb#X13sZmlsZQ%3D%3D?line=2'>3</a>\u001b[0m lak[\u001b[39m2\u001b[39;49m]\u001b[39m=\u001b[39m\u001b[39m'\u001b[39m\u001b[39mk\u001b[39m\u001b[39m'\u001b[39m\u001b[39m#we will get error\u001b[39;00m\n\u001b[0;32m      <a href='vscode-notebook-cell:/d%3A/PW_Data_Science/Assignment_1/Assignment_1.ipynb#X13sZmlsZQ%3D%3D?line=3'>4</a>\u001b[0m \u001b[39mprint\u001b[39m(lak)\n",
      "\u001b[1;31mTypeError\u001b[0m: 'str' object does not support item assignment"
     ]
    }
   ],
   "source": [
    "#immutable\n",
    "lak='string'\n",
    "lak[2]='k'#we will get error\n",
    "print(lak)"
   ]
  }
 ],
 "metadata": {
  "kernelspec": {
   "display_name": "Python 3",
   "language": "python",
   "name": "python3"
  },
  "language_info": {
   "codemirror_mode": {
    "name": "ipython",
    "version": 3
   },
   "file_extension": ".py",
   "mimetype": "text/x-python",
   "name": "python",
   "nbconvert_exporter": "python",
   "pygments_lexer": "ipython3",
   "version": "3.11.4"
  },
  "orig_nbformat": 4
 },
 "nbformat": 4,
 "nbformat_minor": 2
}
